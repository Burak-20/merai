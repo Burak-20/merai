{
 "cells": [
  {
   "cell_type": "code",
   "execution_count": 1,
   "id": "1758a5ad-1871-4ccc-b833-b6c22f03fd2a",
   "metadata": {},
   "outputs": [],
   "source": [
    "import os\n",
    "import numpy as np\n",
    "import tensorflow as tf\n",
    "from tensorflow.keras.callbacks import EarlyStopping\n",
    "from tensorflow.keras.layers import Dense, Activation, Flatten, Dropout, BatchNormalization, Conv2D, MaxPooling2D\n",
    "from tensorflow.keras.models import Sequential"
   ]
  },
  {
   "cell_type": "code",
   "execution_count": 2,
   "id": "b0ac1c19-4ae1-4228-95f7-e6c7bc0e557e",
   "metadata": {},
   "outputs": [],
   "source": [
    "DATASET_PATH = r'C:\\Users\\Burak\\Desktop\\YMGK\\son'"
   ]
  },
  {
   "cell_type": "code",
   "execution_count": 3,
   "id": "a6b6f9cd-9ed0-4413-89b9-908f0b97ffa4",
   "metadata": {},
   "outputs": [
    {
     "name": "stdout",
     "output_type": "stream",
     "text": [
      "WARNING:tensorflow:From C:\\Users\\Burak\\AppData\\Local\\Temp\\ipykernel_11664\\349189047.py:1: _CollectiveAllReduceStrategyExperimental.__init__ (from tensorflow.python.distribute.collective_all_reduce_strategy) is deprecated and will be removed in a future version.\n",
      "Instructions for updating:\n",
      "use distribute.MultiWorkerMirroredStrategy instead\n",
      "INFO:tensorflow:Single-worker MultiWorkerMirroredStrategy with local_devices = ('/device:CPU:0',), communication = CommunicationImplementation.AUTO\n"
     ]
    }
   ],
   "source": [
    "strategy = tf.distribute.experimental.MultiWorkerMirroredStrategy()"
   ]
  },
  {
   "cell_type": "code",
   "execution_count": 4,
   "id": "48cc7ed8-7a93-440e-866d-ece749c3cc59",
   "metadata": {},
   "outputs": [],
   "source": [
    "IMG_WIDTH = 64\n",
    "IMG_HEIGHT = 64\n",
    "\n",
    "NUM_WORKERS = 1\n",
    "PER_WORKER_BATCH_SIZE = 64\n",
    "GLOBAL_BATCH_SIZE = PER_WORKER_BATCH_SIZE * NUM_WORKERS"
   ]
  },
  {
   "cell_type": "code",
   "execution_count": 5,
   "id": "b3c4afed-2dac-4c56-89bc-6812fca5bc55",
   "metadata": {},
   "outputs": [
    {
     "name": "stdout",
     "output_type": "stream",
     "text": [
      "Found 2486 files belonging to 2 classes.\n",
      "Using 1989 files for training.\n"
     ]
    }
   ],
   "source": [
    "train_ds = tf.keras.preprocessing.image_dataset_from_directory(\n",
    "  DATASET_PATH,\n",
    "  validation_split=0.2,\n",
    "  subset=\"training\",\n",
    "  seed=123,\n",
    "  image_size=(IMG_WIDTH, IMG_HEIGHT),\n",
    "  label_mode='categorical',\n",
    "  batch_size=GLOBAL_BATCH_SIZE)"
   ]
  },
  {
   "cell_type": "code",
   "execution_count": 6,
   "id": "f361dd41-591b-4002-b1d7-e3abb8d23e74",
   "metadata": {},
   "outputs": [
    {
     "name": "stdout",
     "output_type": "stream",
     "text": [
      "Found 2486 files belonging to 2 classes.\n",
      "Using 497 files for validation.\n"
     ]
    }
   ],
   "source": [
    "test_ds = tf.keras.preprocessing.image_dataset_from_directory(\n",
    "  DATASET_PATH,\n",
    "  validation_split=0.2,\n",
    "  subset=\"validation\",\n",
    "  seed=123,\n",
    "  image_size=(IMG_WIDTH, IMG_HEIGHT),\n",
    "  label_mode='categorical',\n",
    "  batch_size=GLOBAL_BATCH_SIZE)"
   ]
  },
  {
   "cell_type": "code",
   "execution_count": 7,
   "id": "ca51d15c-23e5-4771-becb-deef3dca8d6c",
   "metadata": {},
   "outputs": [
    {
     "name": "stdout",
     "output_type": "stream",
     "text": [
      "['good', 'kırık']\n"
     ]
    }
   ],
   "source": [
    "class_names = train_ds.class_names\n",
    "print(class_names)"
   ]
  },
  {
   "cell_type": "code",
   "execution_count": 8,
   "id": "dfafb33c-0110-4de9-8a59-c5e970871c4d",
   "metadata": {},
   "outputs": [],
   "source": [
    "num_classes = len(class_names)"
   ]
  },
  {
   "cell_type": "code",
   "execution_count": 9,
   "id": "acf04b9a-78ff-4af5-a262-76d58f0e0d06",
   "metadata": {},
   "outputs": [],
   "source": [
    "def scale(image, label):\n",
    "    image = tf.cast(image, tf.float32)\n",
    "    image /= 255\n",
    "\n",
    "    return image, label"
   ]
  },
  {
   "cell_type": "code",
   "execution_count": 10,
   "id": "f937c46b-be53-4601-90aa-a03155a70e56",
   "metadata": {},
   "outputs": [],
   "source": [
    "AUTOTUNE = tf.data.experimental.AUTOTUNE\n",
    "\n",
    "train_ds = train_ds.map(scale, num_parallel_calls=AUTOTUNE).repeat().cache().prefetch(buffer_size=AUTOTUNE)\n",
    "test_ds = test_ds.map(scale, num_parallel_calls=AUTOTUNE).cache().prefetch(buffer_size=AUTOTUNE)"
   ]
  },
  {
   "cell_type": "code",
   "execution_count": 11,
   "id": "0e414c77-83f7-4070-a9ff-8b7a75d69189",
   "metadata": {},
   "outputs": [],
   "source": [
    "dist_dataset = strategy.experimental_distribute_dataset(train_ds)"
   ]
  },
  {
   "cell_type": "code",
   "execution_count": 12,
   "id": "5f9afd1d-edd3-458f-b859-9377ef4b56c7",
   "metadata": {},
   "outputs": [],
   "source": [
    "with strategy.scope():\n",
    "    model = Sequential()\n",
    "\n",
    "    # VGG Blocks\n",
    "    model.add(Conv2D(32, (3, 3), padding='same', input_shape=(IMG_WIDTH,IMG_HEIGHT,3)))\n",
    "    model.add(Activation('relu'))\n",
    "    model.add(Conv2D(32, (3, 3)))\n",
    "    model.add(Activation('relu'))\n",
    "    model.add(MaxPooling2D(pool_size=(2, 2)))\n",
    "\n",
    "    model.add(Conv2D(64, (3, 3), padding='same'))\n",
    "    model.add(Activation('relu'))\n",
    "    model.add(Conv2D(64, (3, 3)))\n",
    "    model.add(Activation('relu'))\n",
    "    model.add(MaxPooling2D(pool_size=(2, 2)))\n",
    "\n",
    "    model.add(Conv2D(128, (3, 3), padding='same'))\n",
    "    model.add(Activation('relu'))\n",
    "    model.add(Conv2D(128, (3, 3)))\n",
    "    model.add(Activation('relu'))\n",
    "    model.add(MaxPooling2D(pool_size=(2, 2)))\n",
    "\n",
    "    model.add(Flatten())\n",
    "\n",
    "    # Dense layers\n",
    "    model.add(Dense(128))\n",
    "    model.add(Activation('relu'))\n",
    "    model.add(Dropout(0.5))\n",
    "    model.add(Dense(num_classes, activation='softmax'))\n",
    "\n",
    "    model.compile(optimizer=tf.keras.optimizers.Adam(), \n",
    "                  loss=tf.keras.losses.CategoricalCrossentropy(),\n",
    "                  metrics=[\"accuracy\"])"
   ]
  },
  {
   "cell_type": "code",
   "execution_count": 13,
   "id": "17133a6d-a5c3-4a70-ad17-e3e5288f92da",
   "metadata": {},
   "outputs": [],
   "source": [
    "es = EarlyStopping(monitor='loss', verbose=1, mode='min', patience = 2, min_delta=0.01)"
   ]
  },
  {
   "cell_type": "code",
   "execution_count": 14,
   "id": "15d4ad7c-0243-41cb-b7a4-a2eff59349be",
   "metadata": {},
   "outputs": [
    {
     "name": "stdout",
     "output_type": "stream",
     "text": [
      "Epoch 1/15\n",
      "75/75 [==============================] - 23s 284ms/step - loss: 0.3851 - accuracy: 0.8622\n",
      "Epoch 2/15\n",
      "75/75 [==============================] - 22s 294ms/step - loss: 0.2025 - accuracy: 0.9302\n",
      "Epoch 3/15\n",
      "75/75 [==============================] - 26s 341ms/step - loss: 0.1570 - accuracy: 0.9494\n",
      "Epoch 4/15\n",
      "75/75 [==============================] - 26s 342ms/step - loss: 0.1102 - accuracy: 0.9648\n",
      "Epoch 5/15\n",
      "75/75 [==============================] - 28s 371ms/step - loss: 0.0896 - accuracy: 0.9710\n",
      "Epoch 6/15\n",
      "75/75 [==============================] - 26s 341ms/step - loss: 0.0540 - accuracy: 0.9840\n",
      "Epoch 7/15\n",
      "75/75 [==============================] - 26s 340ms/step - loss: 0.0478 - accuracy: 0.9868\n",
      "Epoch 8/15\n",
      "75/75 [==============================] - 25s 339ms/step - loss: 0.0328 - accuracy: 0.9921\n",
      "Epoch 9/15\n",
      "75/75 [==============================] - 26s 341ms/step - loss: 0.0409 - accuracy: 0.9885\n",
      "Epoch 10/15\n",
      "75/75 [==============================] - 26s 346ms/step - loss: 0.0443 - accuracy: 0.9868\n",
      "Epoch 10: early stopping\n"
     ]
    }
   ],
   "source": [
    "history = model.fit(dist_dataset,\n",
    "            epochs=15,\n",
    "            steps_per_epoch = 75,\n",
    "            callbacks=[es])"
   ]
  },
  {
   "cell_type": "code",
   "execution_count": 15,
   "id": "b41e6a32-262e-491d-b2ca-69edba87630b",
   "metadata": {},
   "outputs": [],
   "source": [
    "model.save(r'C:\\Users\\Burak\\Desktop\\modelymgk.h5')"
   ]
  },
  {
   "cell_type": "code",
   "execution_count": 16,
   "id": "34e1388f-949d-4627-943c-8dc9b3dfa0fe",
   "metadata": {},
   "outputs": [],
   "source": [
    "model = tf.keras.models.load_model(r'C:\\Users\\Burak\\Desktop\\modelymgk.h5')"
   ]
  },
  {
   "cell_type": "code",
   "execution_count": 17,
   "id": "5e4e68de-619e-49d0-9305-d305bffdc2bc",
   "metadata": {},
   "outputs": [
    {
     "name": "stdout",
     "output_type": "stream",
     "text": [
      "8/8 [==============================] - 2s 91ms/step - loss: 0.3681 - accuracy: 0.9517\n"
     ]
    },
    {
     "data": {
      "text/plain": [
       "[0.3680533468723297, 0.9517102837562561]"
      ]
     },
     "execution_count": 17,
     "metadata": {},
     "output_type": "execute_result"
    }
   ],
   "source": [
    "model.evaluate(test_ds)"
   ]
  },
  {
   "cell_type": "code",
   "execution_count": 30,
   "id": "4a3fdb05-ce86-4344-8cb8-8553292d73ec",
   "metadata": {},
   "outputs": [
    {
     "name": "stdout",
     "output_type": "stream",
     "text": [
      "1/1 [==============================] - 0s 22ms/step\n",
      "10: 1.0\n",
      "100: 0.0\n",
      "20: 0.0\n",
      "200: 0.0\n",
      "5: 0.0\n",
      "50: 0.0\n"
     ]
    }
   ],
   "source": [
    "import keras.utils as image\n",
    "\n",
    "\n",
    "img = image.load_img(r'C:\\Users\\Burak\\Downloads\\10.jpg', target_size = (64, 64))\n",
    "img = image.img_to_array(img)\n",
    "img = np.expand_dims(img, axis = 0)\n",
    "\n",
    "deneme =model.predict(img)\n",
    "prediction = deneme\n",
    "prediction = prediction[0]\n",
    "\n",
    "# Öznitelikleri sırasıyla yazdırın\n",
    "for index, value in enumerate(prediction):\n",
    "  print(f\"{class_names[index]}: {value}\")\n"
   ]
  },
  {
   "cell_type": "code",
   "execution_count": null,
   "id": "5b07e614-4a80-4f2f-a463-a5e92d003cdd",
   "metadata": {},
   "outputs": [],
   "source": []
  },
  {
   "cell_type": "code",
   "execution_count": null,
   "id": "e91afa25-980f-4fa3-b27f-07fb608e8d68",
   "metadata": {},
   "outputs": [],
   "source": []
  }
 ],
 "metadata": {
  "kernelspec": {
   "display_name": "Python 3 (ipykernel)",
   "language": "python",
   "name": "python3"
  },
  "language_info": {
   "codemirror_mode": {
    "name": "ipython",
    "version": 3
   },
   "file_extension": ".py",
   "mimetype": "text/x-python",
   "name": "python",
   "nbconvert_exporter": "python",
   "pygments_lexer": "ipython3",
   "version": "3.9.13"
  }
 },
 "nbformat": 4,
 "nbformat_minor": 5
}
